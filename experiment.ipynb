{
  "cells": [
    {
      "cell_type": "markdown",
      "source": [
        "**Basic Stock Forecaster using Yfinance API and LSTM model**"
      ],
      "metadata": {
        "id": "6CTZgwxTthvB"
      }
    },
    {
      "cell_type": "markdown",
      "source": [
        "Install and Import Libraries"
      ],
      "metadata": {
        "id": "w-_bwh1iuAmA"
      }
    },
    {
      "cell_type": "code",
      "source": [
        "!pip install Yfinance\n",
        "!pip install pandas\n",
        "!pip install numpy\n",
        "!pip install sckit-learn\n",
        "!pip install matplotlib"
      ],
      "metadata": {
        "id": "TkKb4_qTpJ0P",
        "outputId": "27826bd4-431e-4987-bfd1-fe260856c0b4",
        "colab": {
          "base_uri": "https://localhost:8080/"
        }
      },
      "execution_count": 68,
      "outputs": [
        {
          "output_type": "stream",
          "name": "stdout",
          "text": [
            "Requirement already satisfied: Yfinance in /usr/local/lib/python3.11/dist-packages (0.2.52)\n",
            "Requirement already satisfied: pandas>=1.3.0 in /usr/local/lib/python3.11/dist-packages (from Yfinance) (2.2.2)\n",
            "Requirement already satisfied: numpy>=1.16.5 in /usr/local/lib/python3.11/dist-packages (from Yfinance) (1.26.4)\n",
            "Requirement already satisfied: requests>=2.31 in /usr/local/lib/python3.11/dist-packages (from Yfinance) (2.32.3)\n",
            "Requirement already satisfied: multitasking>=0.0.7 in /usr/local/lib/python3.11/dist-packages (from Yfinance) (0.0.11)\n",
            "Requirement already satisfied: lxml>=4.9.1 in /usr/local/lib/python3.11/dist-packages (from Yfinance) (5.3.1)\n",
            "Requirement already satisfied: platformdirs>=2.0.0 in /usr/local/lib/python3.11/dist-packages (from Yfinance) (4.3.6)\n",
            "Requirement already satisfied: pytz>=2022.5 in /usr/local/lib/python3.11/dist-packages (from Yfinance) (2025.1)\n",
            "Requirement already satisfied: frozendict>=2.3.4 in /usr/local/lib/python3.11/dist-packages (from Yfinance) (2.4.6)\n",
            "Requirement already satisfied: peewee>=3.16.2 in /usr/local/lib/python3.11/dist-packages (from Yfinance) (3.17.9)\n",
            "Requirement already satisfied: beautifulsoup4>=4.11.1 in /usr/local/lib/python3.11/dist-packages (from Yfinance) (4.13.3)\n",
            "Requirement already satisfied: html5lib>=1.1 in /usr/local/lib/python3.11/dist-packages (from Yfinance) (1.1)\n",
            "Requirement already satisfied: soupsieve>1.2 in /usr/local/lib/python3.11/dist-packages (from beautifulsoup4>=4.11.1->Yfinance) (2.6)\n",
            "Requirement already satisfied: typing-extensions>=4.0.0 in /usr/local/lib/python3.11/dist-packages (from beautifulsoup4>=4.11.1->Yfinance) (4.12.2)\n",
            "Requirement already satisfied: six>=1.9 in /usr/local/lib/python3.11/dist-packages (from html5lib>=1.1->Yfinance) (1.17.0)\n",
            "Requirement already satisfied: webencodings in /usr/local/lib/python3.11/dist-packages (from html5lib>=1.1->Yfinance) (0.5.1)\n",
            "Requirement already satisfied: python-dateutil>=2.8.2 in /usr/local/lib/python3.11/dist-packages (from pandas>=1.3.0->Yfinance) (2.8.2)\n",
            "Requirement already satisfied: tzdata>=2022.7 in /usr/local/lib/python3.11/dist-packages (from pandas>=1.3.0->Yfinance) (2025.1)\n",
            "Requirement already satisfied: charset-normalizer<4,>=2 in /usr/local/lib/python3.11/dist-packages (from requests>=2.31->Yfinance) (3.4.1)\n",
            "Requirement already satisfied: idna<4,>=2.5 in /usr/local/lib/python3.11/dist-packages (from requests>=2.31->Yfinance) (3.10)\n",
            "Requirement already satisfied: urllib3<3,>=1.21.1 in /usr/local/lib/python3.11/dist-packages (from requests>=2.31->Yfinance) (2.3.0)\n",
            "Requirement already satisfied: certifi>=2017.4.17 in /usr/local/lib/python3.11/dist-packages (from requests>=2.31->Yfinance) (2025.1.31)\n",
            "Requirement already satisfied: pandas in /usr/local/lib/python3.11/dist-packages (2.2.2)\n",
            "Requirement already satisfied: numpy>=1.23.2 in /usr/local/lib/python3.11/dist-packages (from pandas) (1.26.4)\n",
            "Requirement already satisfied: python-dateutil>=2.8.2 in /usr/local/lib/python3.11/dist-packages (from pandas) (2.8.2)\n",
            "Requirement already satisfied: pytz>=2020.1 in /usr/local/lib/python3.11/dist-packages (from pandas) (2025.1)\n",
            "Requirement already satisfied: tzdata>=2022.7 in /usr/local/lib/python3.11/dist-packages (from pandas) (2025.1)\n",
            "Requirement already satisfied: six>=1.5 in /usr/local/lib/python3.11/dist-packages (from python-dateutil>=2.8.2->pandas) (1.17.0)\n",
            "Requirement already satisfied: numpy in /usr/local/lib/python3.11/dist-packages (1.26.4)\n",
            "\u001b[31mERROR: Could not find a version that satisfies the requirement sckit-learn (from versions: none)\u001b[0m\u001b[31m\n",
            "\u001b[0m\u001b[31mERROR: No matching distribution found for sckit-learn\u001b[0m\u001b[31m\n",
            "\u001b[0mRequirement already satisfied: matplotlib in /usr/local/lib/python3.11/dist-packages (3.10.0)\n",
            "Requirement already satisfied: contourpy>=1.0.1 in /usr/local/lib/python3.11/dist-packages (from matplotlib) (1.3.1)\n",
            "Requirement already satisfied: cycler>=0.10 in /usr/local/lib/python3.11/dist-packages (from matplotlib) (0.12.1)\n",
            "Requirement already satisfied: fonttools>=4.22.0 in /usr/local/lib/python3.11/dist-packages (from matplotlib) (4.56.0)\n",
            "Requirement already satisfied: kiwisolver>=1.3.1 in /usr/local/lib/python3.11/dist-packages (from matplotlib) (1.4.8)\n",
            "Requirement already satisfied: numpy>=1.23 in /usr/local/lib/python3.11/dist-packages (from matplotlib) (1.26.4)\n",
            "Requirement already satisfied: packaging>=20.0 in /usr/local/lib/python3.11/dist-packages (from matplotlib) (24.2)\n",
            "Requirement already satisfied: pillow>=8 in /usr/local/lib/python3.11/dist-packages (from matplotlib) (11.1.0)\n",
            "Requirement already satisfied: pyparsing>=2.3.1 in /usr/local/lib/python3.11/dist-packages (from matplotlib) (3.2.1)\n",
            "Requirement already satisfied: python-dateutil>=2.7 in /usr/local/lib/python3.11/dist-packages (from matplotlib) (2.8.2)\n",
            "Requirement already satisfied: six>=1.5 in /usr/local/lib/python3.11/dist-packages (from python-dateutil>=2.7->matplotlib) (1.17.0)\n"
          ]
        }
      ]
    },
    {
      "cell_type": "code",
      "source": [
        "import yfinance as yf\n",
        "import pandas as pd\n",
        "import numpy as np\n",
        "import torch\n",
        "import torch.nn as nn\n",
        "import torch.optim as optim\n",
        "from torch.utils.data import DataLoader, TensorDataset\n",
        "from sklearn.preprocessing import MinMaxScaler\n",
        "from sklearn.model_selection import train_test_split\n",
        "import matplotlib.pyplot as plt\n",
        "import datetime"
      ],
      "metadata": {
        "id": "KeGjgPQ2qDeV"
      },
      "execution_count": 3,
      "outputs": []
    },
    {
      "cell_type": "markdown",
      "source": [
        "Yfinance API Processing"
      ],
      "metadata": {
        "id": "McmV95aPuLLT"
      }
    },
    {
      "cell_type": "code",
      "source": [
        "data = yf.Ticker(\"SPY\")\n",
        "info = data.history(period='5y', interval='1d')\n",
        "df = info[[\"Close\"]]\n",
        "df.head()"
      ],
      "metadata": {
        "id": "7TJxLP4mqLZW",
        "outputId": "34b019b6-5373-4227-9516-b2465c722ad6",
        "colab": {
          "base_uri": "https://localhost:8080/",
          "height": 238
        }
      },
      "execution_count": 4,
      "outputs": [
        {
          "output_type": "execute_result",
          "data": {
            "text/plain": [
              "                                Close\n",
              "Date                                 \n",
              "2020-02-18 00:00:00-05:00  312.190643\n",
              "2020-02-19 00:00:00-05:00  313.683258\n",
              "2020-02-20 00:00:00-05:00  312.394562\n",
              "2020-02-21 00:00:00-05:00  309.177490\n",
              "2020-02-24 00:00:00-05:00  298.923431"
            ],
            "text/html": [
              "\n",
              "  <div id=\"df-caff8fda-ccb7-46ae-87d7-cf65ee77e247\" class=\"colab-df-container\">\n",
              "    <div>\n",
              "<style scoped>\n",
              "    .dataframe tbody tr th:only-of-type {\n",
              "        vertical-align: middle;\n",
              "    }\n",
              "\n",
              "    .dataframe tbody tr th {\n",
              "        vertical-align: top;\n",
              "    }\n",
              "\n",
              "    .dataframe thead th {\n",
              "        text-align: right;\n",
              "    }\n",
              "</style>\n",
              "<table border=\"1\" class=\"dataframe\">\n",
              "  <thead>\n",
              "    <tr style=\"text-align: right;\">\n",
              "      <th></th>\n",
              "      <th>Close</th>\n",
              "    </tr>\n",
              "    <tr>\n",
              "      <th>Date</th>\n",
              "      <th></th>\n",
              "    </tr>\n",
              "  </thead>\n",
              "  <tbody>\n",
              "    <tr>\n",
              "      <th>2020-02-18 00:00:00-05:00</th>\n",
              "      <td>312.190643</td>\n",
              "    </tr>\n",
              "    <tr>\n",
              "      <th>2020-02-19 00:00:00-05:00</th>\n",
              "      <td>313.683258</td>\n",
              "    </tr>\n",
              "    <tr>\n",
              "      <th>2020-02-20 00:00:00-05:00</th>\n",
              "      <td>312.394562</td>\n",
              "    </tr>\n",
              "    <tr>\n",
              "      <th>2020-02-21 00:00:00-05:00</th>\n",
              "      <td>309.177490</td>\n",
              "    </tr>\n",
              "    <tr>\n",
              "      <th>2020-02-24 00:00:00-05:00</th>\n",
              "      <td>298.923431</td>\n",
              "    </tr>\n",
              "  </tbody>\n",
              "</table>\n",
              "</div>\n",
              "    <div class=\"colab-df-buttons\">\n",
              "\n",
              "  <div class=\"colab-df-container\">\n",
              "    <button class=\"colab-df-convert\" onclick=\"convertToInteractive('df-caff8fda-ccb7-46ae-87d7-cf65ee77e247')\"\n",
              "            title=\"Convert this dataframe to an interactive table.\"\n",
              "            style=\"display:none;\">\n",
              "\n",
              "  <svg xmlns=\"http://www.w3.org/2000/svg\" height=\"24px\" viewBox=\"0 -960 960 960\">\n",
              "    <path d=\"M120-120v-720h720v720H120Zm60-500h600v-160H180v160Zm220 220h160v-160H400v160Zm0 220h160v-160H400v160ZM180-400h160v-160H180v160Zm440 0h160v-160H620v160ZM180-180h160v-160H180v160Zm440 0h160v-160H620v160Z\"/>\n",
              "  </svg>\n",
              "    </button>\n",
              "\n",
              "  <style>\n",
              "    .colab-df-container {\n",
              "      display:flex;\n",
              "      gap: 12px;\n",
              "    }\n",
              "\n",
              "    .colab-df-convert {\n",
              "      background-color: #E8F0FE;\n",
              "      border: none;\n",
              "      border-radius: 50%;\n",
              "      cursor: pointer;\n",
              "      display: none;\n",
              "      fill: #1967D2;\n",
              "      height: 32px;\n",
              "      padding: 0 0 0 0;\n",
              "      width: 32px;\n",
              "    }\n",
              "\n",
              "    .colab-df-convert:hover {\n",
              "      background-color: #E2EBFA;\n",
              "      box-shadow: 0px 1px 2px rgba(60, 64, 67, 0.3), 0px 1px 3px 1px rgba(60, 64, 67, 0.15);\n",
              "      fill: #174EA6;\n",
              "    }\n",
              "\n",
              "    .colab-df-buttons div {\n",
              "      margin-bottom: 4px;\n",
              "    }\n",
              "\n",
              "    [theme=dark] .colab-df-convert {\n",
              "      background-color: #3B4455;\n",
              "      fill: #D2E3FC;\n",
              "    }\n",
              "\n",
              "    [theme=dark] .colab-df-convert:hover {\n",
              "      background-color: #434B5C;\n",
              "      box-shadow: 0px 1px 3px 1px rgba(0, 0, 0, 0.15);\n",
              "      filter: drop-shadow(0px 1px 2px rgba(0, 0, 0, 0.3));\n",
              "      fill: #FFFFFF;\n",
              "    }\n",
              "  </style>\n",
              "\n",
              "    <script>\n",
              "      const buttonEl =\n",
              "        document.querySelector('#df-caff8fda-ccb7-46ae-87d7-cf65ee77e247 button.colab-df-convert');\n",
              "      buttonEl.style.display =\n",
              "        google.colab.kernel.accessAllowed ? 'block' : 'none';\n",
              "\n",
              "      async function convertToInteractive(key) {\n",
              "        const element = document.querySelector('#df-caff8fda-ccb7-46ae-87d7-cf65ee77e247');\n",
              "        const dataTable =\n",
              "          await google.colab.kernel.invokeFunction('convertToInteractive',\n",
              "                                                    [key], {});\n",
              "        if (!dataTable) return;\n",
              "\n",
              "        const docLinkHtml = 'Like what you see? Visit the ' +\n",
              "          '<a target=\"_blank\" href=https://colab.research.google.com/notebooks/data_table.ipynb>data table notebook</a>'\n",
              "          + ' to learn more about interactive tables.';\n",
              "        element.innerHTML = '';\n",
              "        dataTable['output_type'] = 'display_data';\n",
              "        await google.colab.output.renderOutput(dataTable, element);\n",
              "        const docLink = document.createElement('div');\n",
              "        docLink.innerHTML = docLinkHtml;\n",
              "        element.appendChild(docLink);\n",
              "      }\n",
              "    </script>\n",
              "  </div>\n",
              "\n",
              "\n",
              "<div id=\"df-4b519e65-5bd5-47f6-acc4-11babb80ae97\">\n",
              "  <button class=\"colab-df-quickchart\" onclick=\"quickchart('df-4b519e65-5bd5-47f6-acc4-11babb80ae97')\"\n",
              "            title=\"Suggest charts\"\n",
              "            style=\"display:none;\">\n",
              "\n",
              "<svg xmlns=\"http://www.w3.org/2000/svg\" height=\"24px\"viewBox=\"0 0 24 24\"\n",
              "     width=\"24px\">\n",
              "    <g>\n",
              "        <path d=\"M19 3H5c-1.1 0-2 .9-2 2v14c0 1.1.9 2 2 2h14c1.1 0 2-.9 2-2V5c0-1.1-.9-2-2-2zM9 17H7v-7h2v7zm4 0h-2V7h2v10zm4 0h-2v-4h2v4z\"/>\n",
              "    </g>\n",
              "</svg>\n",
              "  </button>\n",
              "\n",
              "<style>\n",
              "  .colab-df-quickchart {\n",
              "      --bg-color: #E8F0FE;\n",
              "      --fill-color: #1967D2;\n",
              "      --hover-bg-color: #E2EBFA;\n",
              "      --hover-fill-color: #174EA6;\n",
              "      --disabled-fill-color: #AAA;\n",
              "      --disabled-bg-color: #DDD;\n",
              "  }\n",
              "\n",
              "  [theme=dark] .colab-df-quickchart {\n",
              "      --bg-color: #3B4455;\n",
              "      --fill-color: #D2E3FC;\n",
              "      --hover-bg-color: #434B5C;\n",
              "      --hover-fill-color: #FFFFFF;\n",
              "      --disabled-bg-color: #3B4455;\n",
              "      --disabled-fill-color: #666;\n",
              "  }\n",
              "\n",
              "  .colab-df-quickchart {\n",
              "    background-color: var(--bg-color);\n",
              "    border: none;\n",
              "    border-radius: 50%;\n",
              "    cursor: pointer;\n",
              "    display: none;\n",
              "    fill: var(--fill-color);\n",
              "    height: 32px;\n",
              "    padding: 0;\n",
              "    width: 32px;\n",
              "  }\n",
              "\n",
              "  .colab-df-quickchart:hover {\n",
              "    background-color: var(--hover-bg-color);\n",
              "    box-shadow: 0 1px 2px rgba(60, 64, 67, 0.3), 0 1px 3px 1px rgba(60, 64, 67, 0.15);\n",
              "    fill: var(--button-hover-fill-color);\n",
              "  }\n",
              "\n",
              "  .colab-df-quickchart-complete:disabled,\n",
              "  .colab-df-quickchart-complete:disabled:hover {\n",
              "    background-color: var(--disabled-bg-color);\n",
              "    fill: var(--disabled-fill-color);\n",
              "    box-shadow: none;\n",
              "  }\n",
              "\n",
              "  .colab-df-spinner {\n",
              "    border: 2px solid var(--fill-color);\n",
              "    border-color: transparent;\n",
              "    border-bottom-color: var(--fill-color);\n",
              "    animation:\n",
              "      spin 1s steps(1) infinite;\n",
              "  }\n",
              "\n",
              "  @keyframes spin {\n",
              "    0% {\n",
              "      border-color: transparent;\n",
              "      border-bottom-color: var(--fill-color);\n",
              "      border-left-color: var(--fill-color);\n",
              "    }\n",
              "    20% {\n",
              "      border-color: transparent;\n",
              "      border-left-color: var(--fill-color);\n",
              "      border-top-color: var(--fill-color);\n",
              "    }\n",
              "    30% {\n",
              "      border-color: transparent;\n",
              "      border-left-color: var(--fill-color);\n",
              "      border-top-color: var(--fill-color);\n",
              "      border-right-color: var(--fill-color);\n",
              "    }\n",
              "    40% {\n",
              "      border-color: transparent;\n",
              "      border-right-color: var(--fill-color);\n",
              "      border-top-color: var(--fill-color);\n",
              "    }\n",
              "    60% {\n",
              "      border-color: transparent;\n",
              "      border-right-color: var(--fill-color);\n",
              "    }\n",
              "    80% {\n",
              "      border-color: transparent;\n",
              "      border-right-color: var(--fill-color);\n",
              "      border-bottom-color: var(--fill-color);\n",
              "    }\n",
              "    90% {\n",
              "      border-color: transparent;\n",
              "      border-bottom-color: var(--fill-color);\n",
              "    }\n",
              "  }\n",
              "</style>\n",
              "\n",
              "  <script>\n",
              "    async function quickchart(key) {\n",
              "      const quickchartButtonEl =\n",
              "        document.querySelector('#' + key + ' button');\n",
              "      quickchartButtonEl.disabled = true;  // To prevent multiple clicks.\n",
              "      quickchartButtonEl.classList.add('colab-df-spinner');\n",
              "      try {\n",
              "        const charts = await google.colab.kernel.invokeFunction(\n",
              "            'suggestCharts', [key], {});\n",
              "      } catch (error) {\n",
              "        console.error('Error during call to suggestCharts:', error);\n",
              "      }\n",
              "      quickchartButtonEl.classList.remove('colab-df-spinner');\n",
              "      quickchartButtonEl.classList.add('colab-df-quickchart-complete');\n",
              "    }\n",
              "    (() => {\n",
              "      let quickchartButtonEl =\n",
              "        document.querySelector('#df-4b519e65-5bd5-47f6-acc4-11babb80ae97 button');\n",
              "      quickchartButtonEl.style.display =\n",
              "        google.colab.kernel.accessAllowed ? 'block' : 'none';\n",
              "    })();\n",
              "  </script>\n",
              "</div>\n",
              "\n",
              "    </div>\n",
              "  </div>\n"
            ],
            "application/vnd.google.colaboratory.intrinsic+json": {
              "type": "dataframe",
              "variable_name": "df",
              "summary": "{\n  \"name\": \"df\",\n  \"rows\": 1257,\n  \"fields\": [\n    {\n      \"column\": \"Date\",\n      \"properties\": {\n        \"dtype\": \"date\",\n        \"min\": \"2020-02-18 00:00:00-05:00\",\n        \"max\": \"2025-02-14 00:00:00-05:00\",\n        \"num_unique_values\": 1257,\n        \"samples\": [\n          \"2021-11-05 00:00:00-04:00\",\n          \"2020-07-13 00:00:00-04:00\",\n          \"2020-04-30 00:00:00-04:00\"\n        ],\n        \"semantic_type\": \"\",\n        \"description\": \"\"\n      }\n    },\n    {\n      \"column\": \"Close\",\n      \"properties\": {\n        \"dtype\": \"number\",\n        \"std\": 84.68382530513603,\n        \"min\": 207.91786193847656,\n        \"max\": 609.75,\n        \"num_unique_values\": 1246,\n        \"samples\": [\n          389.5952453613281,\n          446.5020751953125,\n          529.8560180664062\n        ],\n        \"semantic_type\": \"\",\n        \"description\": \"\"\n      }\n    }\n  ]\n}"
            }
          },
          "metadata": {},
          "execution_count": 4
        }
      ]
    },
    {
      "cell_type": "code",
      "source": [
        "plt.plot(df.index, df[\"Close\"])"
      ],
      "metadata": {
        "id": "9ZRkqDN1bFdj",
        "outputId": "7354881d-b8d8-411a-e6d6-764c13555556",
        "colab": {
          "base_uri": "https://localhost:8080/",
          "height": 448
        }
      },
      "execution_count": 5,
      "outputs": [
        {
          "output_type": "execute_result",
          "data": {
            "text/plain": [
              "[<matplotlib.lines.Line2D at 0x7f6ab34d2d90>]"
            ]
          },
          "metadata": {},
          "execution_count": 5
        },
        {
          "output_type": "display_data",
          "data": {
            "text/plain": [
              "<Figure size 640x480 with 1 Axes>"
            ],
            "image/png": "[encoded data removed]"
          },
          "metadata": {}
        }
      ]
    },
    {
      "cell_type": "code",
      "source": [
        "mm = MinMaxScaler()\n",
        "df_scaled = mm.fit_transform(df)"
      ],
      "metadata": {
        "id": "m5ej2X7WbwTs"
      },
      "execution_count": 6,
      "outputs": []
    },
    {
      "cell_type": "code",
      "source": [
        "# number of time steps inputted into LSTM\n",
        "seq_len = 14\n",
        "\n",
        "x = []\n",
        "y = []\n",
        "\n",
        "for i in range(len(df_scaled) - seq_len):\n",
        "    x.append(df_scaled[i : i + seq_len])\n",
        "    y.append(df_scaled[i + seq_len])\n",
        "\n",
        "x, y = np.array(x), np.array(y)"
      ],
      "metadata": {
        "id": "eaUwTTuqef88"
      },
      "execution_count": 7,
      "outputs": []
    },
    {
      "cell_type": "code",
      "source": [
        "train_size = int(len(x) * 0.9)\n",
        "\n",
        "x_train = torch.from_numpy(x[:train_size]).float().view(-1, seq_len, 1)\n",
        "y_train = torch.from_numpy(y[:train_size]).float().view(-1, 1)\n",
        "x_test = torch.from_numpy(x[train_size:]).float().view(-1, seq_len, 1)\n",
        "y_test = torch.from_numpy(y[train_size:]).float().view(-1, 1)"
      ],
      "metadata": {
        "id": "Wm7seu7zgqKN"
      },
      "execution_count": 8,
      "outputs": []
    },
    {
      "cell_type": "code",
      "source": [
        "# mini-batch training strat\n",
        "batch_size = 16\n",
        "\n",
        "train_dataset = TensorDataset(x_train, y_train)\n",
        "train_loader = DataLoader(train_dataset, batch_size=batch_size, shuffle=True)\n",
        "\n",
        "# confirm shape\n",
        "for batch_x, batch_y in train_loader:\n",
        "    print(batch_x.shape) # (batch_size, seq_len, 1)\n",
        "    print(batch_y.shape) # (batch_size, 1)\n",
        "    break"
      ],
      "metadata": {
        "id": "ClQka6akojkq",
        "outputId": "40f3c79f-134c-4e40-f36a-c4d7aa1a8a26",
        "colab": {
          "base_uri": "https://localhost:8080/"
        }
      },
      "execution_count": 16,
      "outputs": [
        {
          "output_type": "stream",
          "name": "stdout",
          "text": [
            "torch.Size([16, 14, 1])\n",
            "torch.Size([16, 1])\n"
          ]
        }
      ]
    },
    {
      "cell_type": "markdown",
      "source": [
        "LSTM Model Structure"
      ],
      "metadata": {
        "id": "B1188gv_tmCe"
      }
    },
    {
      "cell_type": "code",
      "source": [
        "class StockLSTM(nn.Module):\n",
        "\n",
        "    def __init__(self, input_size, hidden_size, num_layers):\n",
        "        super(StockLSTM, self).__init__()\n",
        "        self.hidden_size = hidden_size\n",
        "        self.num_layers = num_layers\n",
        "        self.lstm = nn.LSTM(input_size, hidden_size, num_layers, batch_first=True)\n",
        "        self.fc = nn.Sequential(\n",
        "            nn.ReLU(),\n",
        "            nn.Linear(hidden_size, 1)\n",
        "        )\n",
        "\n",
        "    def forward(self, x):\n",
        "        batch_size = x.size(0)\n",
        "        h0 = torch.zeros(self.num_layers, batch_size, self.hidden_size)\n",
        "        c0 = torch.zeros(self.num_layers, batch_size, self.hidden_size)\n",
        "        out, _ = self.lstm(x, (h0, c0))\n",
        "        return self.fc(out[:, -1, :])"
      ],
      "metadata": {
        "id": "exCMlfCnst01"
      },
      "execution_count": 17,
      "outputs": []
    },
    {
      "cell_type": "markdown",
      "source": [
        "Create model"
      ],
      "metadata": {
        "id": "o9qqopMNkUvi"
      }
    },
    {
      "cell_type": "code",
      "source": [
        "model = StockLSTM(1, 64, 4)\n",
        "optimizer = optim.Adam(model.parameters(), lr = 0.005)\n",
        "criterion = nn.MSELoss()"
      ],
      "metadata": {
        "id": "wLmcgFPGtyfO"
      },
      "execution_count": 18,
      "outputs": []
    },
    {
      "cell_type": "markdown",
      "source": [
        "Train model"
      ],
      "metadata": {
        "id": "7RudJiMnkWrf"
      }
    },
    {
      "cell_type": "code",
      "source": [
        "num_epochs = 100\n",
        "\n",
        "for epoch in range(num_epochs):\n",
        "    output = model.forward(x_train)\n",
        "    loss = criterion(output, y_train)\n",
        "    optimizer.zero_grad()\n",
        "    loss.backward()\n",
        "    optimizer.step()\n",
        "    print(f\"Epoch {epoch + 1}/{num_epochs}, Loss: {loss.item()}\")"
      ],
      "metadata": {
        "id": "3h7A_Q3xixEZ",
        "outputId": "406b7bda-866c-4a50-db65-fa14b05bf792",
        "colab": {
          "base_uri": "https://localhost:8080/"
        }
      },
      "execution_count": 19,
      "outputs": [
        {
          "output_type": "stream",
          "name": "stdout",
          "text": [
            "Epoch 1/100, Loss: 0.16894027590751648\n",
            "Epoch 2/100, Loss: 0.10680869966745377\n",
            "Epoch 3/100, Loss: 0.05519493296742439\n",
            "Epoch 4/100, Loss: 0.02970309928059578\n",
            "Epoch 5/100, Loss: 0.04680804908275604\n",
            "Epoch 6/100, Loss: 0.02779947966337204\n",
            "Epoch 7/100, Loss: 0.031283553689718246\n",
            "Epoch 8/100, Loss: 0.035029761493206024\n",
            "Epoch 9/100, Loss: 0.03422072157263756\n",
            "Epoch 10/100, Loss: 0.03121858462691307\n",
            "Epoch 11/100, Loss: 0.02855423092842102\n",
            "Epoch 12/100, Loss: 0.02773263491690159\n",
            "Epoch 13/100, Loss: 0.02884768322110176\n",
            "Epoch 14/100, Loss: 0.030253412202000618\n",
            "Epoch 15/100, Loss: 0.03008241578936577\n",
            "Epoch 16/100, Loss: 0.028779687359929085\n",
            "Epoch 17/100, Loss: 0.027606172487139702\n",
            "Epoch 18/100, Loss: 0.02726156823337078\n",
            "Epoch 19/100, Loss: 0.027560388669371605\n",
            "Epoch 20/100, Loss: 0.02789471112191677\n",
            "Epoch 21/100, Loss: 0.027741622179746628\n",
            "Epoch 22/100, Loss: 0.02687440998852253\n",
            "Epoch 23/100, Loss: 0.025325896218419075\n",
            "Epoch 24/100, Loss: 0.02322242595255375\n",
            "Epoch 25/100, Loss: 0.02010122500360012\n",
            "Epoch 26/100, Loss: 0.01403065025806427\n",
            "Epoch 27/100, Loss: 0.007292089052498341\n",
            "Epoch 28/100, Loss: 0.007299377117305994\n",
            "Epoch 29/100, Loss: 0.014708002097904682\n",
            "Epoch 30/100, Loss: 0.010564085096120834\n",
            "Epoch 31/100, Loss: 0.00605405168607831\n",
            "Epoch 32/100, Loss: 0.0077419765293598175\n",
            "Epoch 33/100, Loss: 0.005497895181179047\n",
            "Epoch 34/100, Loss: 0.007060662377625704\n",
            "Epoch 35/100, Loss: 0.008428665809333324\n",
            "Epoch 36/100, Loss: 0.00719838310033083\n",
            "Epoch 37/100, Loss: 0.004981475416570902\n",
            "Epoch 38/100, Loss: 0.004450812004506588\n",
            "Epoch 39/100, Loss: 0.004144464619457722\n",
            "Epoch 40/100, Loss: 0.0027034322265535593\n",
            "Epoch 41/100, Loss: 0.00411887327209115\n",
            "Epoch 42/100, Loss: 0.00368121056817472\n",
            "Epoch 43/100, Loss: 0.0021536306012421846\n",
            "Epoch 44/100, Loss: 0.002461926778778434\n",
            "Epoch 45/100, Loss: 0.0019727000035345554\n",
            "Epoch 46/100, Loss: 0.002111658686771989\n",
            "Epoch 47/100, Loss: 0.002589581534266472\n",
            "Epoch 48/100, Loss: 0.0020486016292124987\n",
            "Epoch 49/100, Loss: 0.0011971526546403766\n",
            "Epoch 50/100, Loss: 0.0014736078446730971\n",
            "Epoch 51/100, Loss: 0.0015599486650899053\n",
            "Epoch 52/100, Loss: 0.001517558004707098\n",
            "Epoch 53/100, Loss: 0.001479711732827127\n",
            "Epoch 54/100, Loss: 0.0009214020683430135\n",
            "Epoch 55/100, Loss: 0.0011338451877236366\n",
            "Epoch 56/100, Loss: 0.0014271895634010434\n",
            "Epoch 57/100, Loss: 0.0011762995272874832\n",
            "Epoch 58/100, Loss: 0.0009720620000734925\n",
            "Epoch 59/100, Loss: 0.0009673770982772112\n",
            "Epoch 60/100, Loss: 0.0009783351561054587\n",
            "Epoch 61/100, Loss: 0.0011448642471805215\n",
            "Epoch 62/100, Loss: 0.0009133355342783034\n",
            "Epoch 63/100, Loss: 0.0008021536050364375\n",
            "Epoch 64/100, Loss: 0.0009884677128866315\n",
            "Epoch 65/100, Loss: 0.0009593046852387488\n",
            "Epoch 66/100, Loss: 0.0008711309055797756\n",
            "Epoch 67/100, Loss: 0.0008354781894013286\n",
            "Epoch 68/100, Loss: 0.0008214664994738996\n",
            "Epoch 69/100, Loss: 0.0009275216143578291\n",
            "Epoch 70/100, Loss: 0.0008249514503404498\n",
            "Epoch 71/100, Loss: 0.0007668304606340826\n",
            "Epoch 72/100, Loss: 0.000847653194796294\n",
            "Epoch 73/100, Loss: 0.0008315378217957914\n",
            "Epoch 74/100, Loss: 0.0008015953353606164\n",
            "Epoch 75/100, Loss: 0.0007741954177618027\n",
            "Epoch 76/100, Loss: 0.0007769115618430078\n",
            "Epoch 77/100, Loss: 0.0008210549131035805\n",
            "Epoch 78/100, Loss: 0.00076330202864483\n",
            "Epoch 79/100, Loss: 0.0007503478555008769\n",
            "Epoch 80/100, Loss: 0.0007790769450366497\n",
            "Epoch 81/100, Loss: 0.0007682983414269984\n",
            "Epoch 82/100, Loss: 0.0007579125231131911\n",
            "Epoch 83/100, Loss: 0.0007381478790193796\n",
            "Epoch 84/100, Loss: 0.0007526919362135231\n",
            "Epoch 85/100, Loss: 0.0007598245865665376\n",
            "Epoch 86/100, Loss: 0.0007304537575691938\n",
            "Epoch 87/100, Loss: 0.0007368198712356389\n",
            "Epoch 88/100, Loss: 0.0007393975392915308\n",
            "Epoch 89/100, Loss: 0.000737467547878623\n",
            "Epoch 90/100, Loss: 0.0007285252213478088\n",
            "Epoch 91/100, Loss: 0.0007206899463199079\n",
            "Epoch 92/100, Loss: 0.0007328735664486885\n",
            "Epoch 93/100, Loss: 0.0007239843253046274\n",
            "Epoch 94/100, Loss: 0.0007170714670792222\n",
            "Epoch 95/100, Loss: 0.0007183978450484574\n",
            "Epoch 96/100, Loss: 0.0007182297995314002\n",
            "Epoch 97/100, Loss: 0.0007170773460529745\n",
            "Epoch 98/100, Loss: 0.0007082317606545985\n",
            "Epoch 99/100, Loss: 0.000711269152816385\n",
            "Epoch 100/100, Loss: 0.0007110176957212389\n"
          ]
        }
      ]
    },
    {
      "cell_type": "markdown",
      "source": [
        "Evaluate model"
      ],
      "metadata": {
        "id": "cm1wPmK5kYw1"
      }
    },
    {
      "cell_type": "code",
      "source": [
        "model.eval()\n",
        "\n",
        "with torch.no_grad():\n",
        "    test_output = model(x_test)\n",
        "    test_loss = criterion(test_output, y_test)\n",
        "    print(f\"Test Loss: {test_loss.item()}\")\n",
        "\n",
        "predicted, actual = mm.inverse_transform(test_output.numpy()), mm.inverse_transform(y_test.numpy())"
      ],
      "metadata": {
        "id": "kyAKWwDRkSca",
        "outputId": "51340f9f-d7af-4365-a6bd-8b77a6a044b5",
        "colab": {
          "base_uri": "https://localhost:8080/"
        }
      },
      "execution_count": 20,
      "outputs": [
        {
          "output_type": "stream",
          "name": "stdout",
          "text": [
            "Test Loss: 0.0018872254295274615\n"
          ]
        }
      ]
    },
    {
      "cell_type": "code",
      "source": [
        "plt.plot(predicted, label = \"Predicted\")\n",
        "plt.plot(actual, label = \"Actual\")\n",
        "plt.legend()\n",
        "plt.show()"
      ],
      "metadata": {
        "id": "UelXqHpVkdsd",
        "outputId": "cce1e186-389c-4043-d8df-15e485e179cf",
        "colab": {
          "base_uri": "https://localhost:8080/",
          "height": 430
        }
      },
      "execution_count": 21,
      "outputs": [
        {
          "output_type": "display_data",
          "data": {
            "text/plain": [
              "<Figure size 640x480 with 1 Axes>"
            ],
            "image/png": "[encoded data removed]"
          },
          "metadata": {}
        }
      ]
    }
  ],
  "metadata": {
    "language_info": {
      "name": "python"
    },
    "colab": {
      "provenance": []
    },
    "kernelspec": {
      "name": "python3",
      "display_name": "Python 3"
    }
  },
  "nbformat": 4,
  "nbformat_minor": 0
}